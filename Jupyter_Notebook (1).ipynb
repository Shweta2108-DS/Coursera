{
 "cells": [
  {
   "cell_type": "markdown",
   "id": "726b0305-c701-4967-95e3-4e7daa57001d",
   "metadata": {},
   "source": [
    "# My Jupyter Notebook on IBM Watson Studio"
   ]
  },
  {
   "cell_type": "markdown",
   "id": "66613528-b26a-45ba-8550-5c0a77ab9f6e",
   "metadata": {},
   "source": [
    "**Shweta**\n",
    "\n",
    "Data Scientist"
   ]
  },
  {
   "cell_type": "markdown",
   "id": "27e7868d-5b2f-4abb-8875-0e239457466a",
   "metadata": {},
   "source": [
    "*I am interested in data science because, I want to combine the power of AI/ML with the business requirements, to create powerful solutions and provide deep insights into issues an organization needs to solve or discover underlying patterns to discover new potential insights.*"
   ]
  },
  {
   "cell_type": "markdown",
   "id": "37eb5d5a-720f-4f66-9e2b-af6e1c366799",
   "metadata": {},
   "source": [
    "### The Following Code will generate a random integer between 80 and 100"
   ]
  },
  {
   "cell_type": "code",
   "execution_count": 1,
   "id": "6a52af89-7197-44d3-85af-31c5bb8c8166",
   "metadata": {},
   "outputs": [
    {
     "name": "stdout",
     "output_type": "stream",
     "text": [
      "147\n"
     ]
    }
   ],
   "source": [
    "import random\n",
    "\n",
    "Random_int = random.randint(100,200)\n",
    "\n",
    "print(Random_int)"
   ]
  },
  {
   "cell_type": "markdown",
   "id": "3b49eae1-d678-43bf-99e3-5596469a8fd4",
   "metadata": {},
   "source": [
    "Interested technologies:\n",
    "***\n",
    "\n",
    "1. Okaya Power Group\n",
    "3. ~~Jack Martin~~\n",
    "4. Collegedunia\n",
    "5. *Zypp Electric*\n",
    "\n",
    "***\n"
   ]
  },
  {
   "cell_type": "code",
   "execution_count": 5,
   "id": "d367ea04-9463-45de-8890-4592950f43b2",
   "metadata": {},
   "outputs": [
    {
     "ename": "SyntaxError",
     "evalue": "invalid syntax (3817129939.py, line 1)",
     "output_type": "error",
     "traceback": [
      "\u001b[0;36m  File \u001b[0;32m\"/tmp/ipykernel_1149/3817129939.py\"\u001b[0;36m, line \u001b[0;32m1\u001b[0m\n\u001b[0;31m    [Github](https://www.github.com/Shweta2108-DS) https://www.github.com/Shweta2108-DS\u001b[0m\n\u001b[0m                  ^\u001b[0m\n\u001b[0;31mSyntaxError\u001b[0m\u001b[0;31m:\u001b[0m invalid syntax\n"
     ]
    }
   ],
   "source": [
    "[Github](https://www.github.com/Shweta2108-DS) https://www.github.com/Shweta2108-DS"
   ]
  },
  {
   "cell_type": "code",
   "execution_count": null,
   "id": "0cc59f75-ac60-47a8-b83a-9733134480b4",
   "metadata": {},
   "outputs": [],
   "source": []
  }
 ],
 "metadata": {
  "kernelspec": {
   "display_name": "Python",
   "language": "python",
   "name": "conda-env-python-py"
  },
  "language_info": {
   "codemirror_mode": {
    "name": "ipython",
    "version": 3
   },
   "file_extension": ".py",
   "mimetype": "text/x-python",
   "name": "python",
   "nbconvert_exporter": "python",
   "pygments_lexer": "ipython3",
   "version": "3.7.12"
  }
 },
 "nbformat": 4,
 "nbformat_minor": 5
}
